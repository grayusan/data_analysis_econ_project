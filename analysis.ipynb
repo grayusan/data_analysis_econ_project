{
 "cells": [
  {
   "cell_type": "code",
   "execution_count": 18,
   "id": "c2f0e4e6-f090-459f-bc94-72ce3d73fd57",
   "metadata": {},
   "outputs": [
    {
     "data": {
      "text/plain": [
       "Index(['date', 'death', 'deathIncrease', 'inIcuCumulative', 'inIcuCurrently',\n",
       "       'hospitalizedIncrease', 'hospitalizedCurrently',\n",
       "       'hospitalizedCumulative', 'negative', 'negativeIncrease',\n",
       "       'onVentilatorCumulative', 'onVentilatorCurrently', 'positive',\n",
       "       'positiveIncrease', 'states', 'totalTestResults',\n",
       "       'totalTestResultsIncrease'],\n",
       "      dtype='object')"
      ]
     },
     "execution_count": 18,
     "metadata": {},
     "output_type": "execute_result"
    }
   ],
   "source": [
    "import pandas as pd\n",
    "import numpy as np\n",
    "\n",
    "oil_prices = pd.read_csv(\"DCOILWTICO.csv\", sep=\",\")\n",
    "covid_data = pd.read_csv(\"national-history.csv\")\n",
    "\n",
    "# We will use DATE and PRICES from the first data\n",
    "# We will only use date and positiveIncrease columns from the second csv file\n",
    "covid_data.columns"
   ]
  },
  {
   "cell_type": "code",
   "execution_count": null,
   "id": "3b61ca73-a89a-4f03-999b-78e82199a7a4",
   "metadata": {},
   "outputs": [],
   "source": []
  },
  {
   "cell_type": "code",
   "execution_count": null,
   "id": "ca359a4d-2466-44fd-9f7a-69e96380fd63",
   "metadata": {},
   "outputs": [],
   "source": []
  }
 ],
 "metadata": {
  "kernelspec": {
   "display_name": "Python 3 (ipykernel)",
   "language": "python",
   "name": "python3"
  },
  "language_info": {
   "codemirror_mode": {
    "name": "ipython",
    "version": 3
   },
   "file_extension": ".py",
   "mimetype": "text/x-python",
   "name": "python",
   "nbconvert_exporter": "python",
   "pygments_lexer": "ipython3",
   "version": "3.9.7"
  }
 },
 "nbformat": 4,
 "nbformat_minor": 5
}
